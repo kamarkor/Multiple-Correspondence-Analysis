{
  "nbformat": 4,
  "nbformat_minor": 0,
  "metadata": {
    "colab": {
      "name": "Copie de MCA.ipynb",
      "provenance": [],
      "collapsed_sections": []
    },
    "kernelspec": {
      "name": "python3",
      "display_name": "Python 3"
    },
    "language_info": {
      "name": "python"
    }
  },
  "cells": [
    {
      "cell_type": "code",
      "execution_count": null,
      "metadata": {
        "id": "G5HyorMq0vL6"
      },
      "outputs": [],
      "source": [
        "import pandas as pd\n",
        "import numpy as np\n",
        "import seaborn as sns\n",
        "import matplotlib.pyplot as plt\n",
        "import prince"
      ]
    },
    {
      "cell_type": "code",
      "source": [
        "df_K = pd.read_excel('/DataBank.xlsx')"
      ],
      "metadata": {
        "id": "xibHxqEg03u_"
      },
      "execution_count": null,
      "outputs": []
    },
    {
      "cell_type": "code",
      "source": [
        "df_K.head()"
      ],
      "metadata": {
        "colab": {
          "base_uri": "https://localhost:8080/",
          "height": 300
        },
        "id": "BFQT_GDH03yT",
        "outputId": "a356af73-076e-4c82-d443-6569cdd4b590"
      },
      "execution_count": null,
      "outputs": [
        {
          "output_type": "execute_result",
          "data": {
            "text/plain": [
              "   Customer_ID Status_Checking_Acc  Duration_in_Months Credit_History  \\\n",
              "0       100001                 A11                   6            A34   \n",
              "1       100002                 A12                  48            A32   \n",
              "2       100003                 A14                  12            A34   \n",
              "3       100004                 A11                  42            A32   \n",
              "4       100005                 A11                  24            A33   \n",
              "\n",
              "  Purposre_Credit_Taken  Credit_Amount Savings_Acc  \\\n",
              "0                   A43           1169         A65   \n",
              "1                   A43           5951         A61   \n",
              "2                   A46           2096         A61   \n",
              "3                   A42           7882         A61   \n",
              "4                   A40           4870         A61   \n",
              "\n",
              "  Years_At_Present_Employment  Inst_Rt_Income Marital_Status_Gender  ... Age  \\\n",
              "0                         A75               4                   A93  ...  67   \n",
              "1                         A73               2                   A92  ...  22   \n",
              "2                         A74               2                   A93  ...  49   \n",
              "3                         A74               2                   A93  ...  45   \n",
              "4                         A73               3                   A93  ...  53   \n",
              "\n",
              "   Other_Inst_Plans  Housing  Num_CC   Job Dependents  Telephone  \\\n",
              "0               A143    A152       2  A173          1       A192   \n",
              "1               A143    A152       1  A173          1       A191   \n",
              "2               A143    A152       1  A172          2       A191   \n",
              "3               A143    A153       1  A173          2       A191   \n",
              "4               A143    A153       2  A173          2       A191   \n",
              "\n",
              "  Foreign_Worker  Default_On_Payment Count  \n",
              "0           A201                   0     1  \n",
              "1           A201                   0     1  \n",
              "2           A201                   0     1  \n",
              "3           A201                   0     1  \n",
              "4           A201                   1     1  \n",
              "\n",
              "[5 rows x 23 columns]"
            ],
            "text/html": [
              "\n",
              "  <div id=\"df-c05b819c-ca42-4ba0-83a7-279fa7cb2bf1\">\n",
              "    <div class=\"colab-df-container\">\n",
              "      <div>\n",
              "<style scoped>\n",
              "    .dataframe tbody tr th:only-of-type {\n",
              "        vertical-align: middle;\n",
              "    }\n",
              "\n",
              "    .dataframe tbody tr th {\n",
              "        vertical-align: top;\n",
              "    }\n",
              "\n",
              "    .dataframe thead th {\n",
              "        text-align: right;\n",
              "    }\n",
              "</style>\n",
              "<table border=\"1\" class=\"dataframe\">\n",
              "  <thead>\n",
              "    <tr style=\"text-align: right;\">\n",
              "      <th></th>\n",
              "      <th>Customer_ID</th>\n",
              "      <th>Status_Checking_Acc</th>\n",
              "      <th>Duration_in_Months</th>\n",
              "      <th>Credit_History</th>\n",
              "      <th>Purposre_Credit_Taken</th>\n",
              "      <th>Credit_Amount</th>\n",
              "      <th>Savings_Acc</th>\n",
              "      <th>Years_At_Present_Employment</th>\n",
              "      <th>Inst_Rt_Income</th>\n",
              "      <th>Marital_Status_Gender</th>\n",
              "      <th>...</th>\n",
              "      <th>Age</th>\n",
              "      <th>Other_Inst_Plans</th>\n",
              "      <th>Housing</th>\n",
              "      <th>Num_CC</th>\n",
              "      <th>Job</th>\n",
              "      <th>Dependents</th>\n",
              "      <th>Telephone</th>\n",
              "      <th>Foreign_Worker</th>\n",
              "      <th>Default_On_Payment</th>\n",
              "      <th>Count</th>\n",
              "    </tr>\n",
              "  </thead>\n",
              "  <tbody>\n",
              "    <tr>\n",
              "      <th>0</th>\n",
              "      <td>100001</td>\n",
              "      <td>A11</td>\n",
              "      <td>6</td>\n",
              "      <td>A34</td>\n",
              "      <td>A43</td>\n",
              "      <td>1169</td>\n",
              "      <td>A65</td>\n",
              "      <td>A75</td>\n",
              "      <td>4</td>\n",
              "      <td>A93</td>\n",
              "      <td>...</td>\n",
              "      <td>67</td>\n",
              "      <td>A143</td>\n",
              "      <td>A152</td>\n",
              "      <td>2</td>\n",
              "      <td>A173</td>\n",
              "      <td>1</td>\n",
              "      <td>A192</td>\n",
              "      <td>A201</td>\n",
              "      <td>0</td>\n",
              "      <td>1</td>\n",
              "    </tr>\n",
              "    <tr>\n",
              "      <th>1</th>\n",
              "      <td>100002</td>\n",
              "      <td>A12</td>\n",
              "      <td>48</td>\n",
              "      <td>A32</td>\n",
              "      <td>A43</td>\n",
              "      <td>5951</td>\n",
              "      <td>A61</td>\n",
              "      <td>A73</td>\n",
              "      <td>2</td>\n",
              "      <td>A92</td>\n",
              "      <td>...</td>\n",
              "      <td>22</td>\n",
              "      <td>A143</td>\n",
              "      <td>A152</td>\n",
              "      <td>1</td>\n",
              "      <td>A173</td>\n",
              "      <td>1</td>\n",
              "      <td>A191</td>\n",
              "      <td>A201</td>\n",
              "      <td>0</td>\n",
              "      <td>1</td>\n",
              "    </tr>\n",
              "    <tr>\n",
              "      <th>2</th>\n",
              "      <td>100003</td>\n",
              "      <td>A14</td>\n",
              "      <td>12</td>\n",
              "      <td>A34</td>\n",
              "      <td>A46</td>\n",
              "      <td>2096</td>\n",
              "      <td>A61</td>\n",
              "      <td>A74</td>\n",
              "      <td>2</td>\n",
              "      <td>A93</td>\n",
              "      <td>...</td>\n",
              "      <td>49</td>\n",
              "      <td>A143</td>\n",
              "      <td>A152</td>\n",
              "      <td>1</td>\n",
              "      <td>A172</td>\n",
              "      <td>2</td>\n",
              "      <td>A191</td>\n",
              "      <td>A201</td>\n",
              "      <td>0</td>\n",
              "      <td>1</td>\n",
              "    </tr>\n",
              "    <tr>\n",
              "      <th>3</th>\n",
              "      <td>100004</td>\n",
              "      <td>A11</td>\n",
              "      <td>42</td>\n",
              "      <td>A32</td>\n",
              "      <td>A42</td>\n",
              "      <td>7882</td>\n",
              "      <td>A61</td>\n",
              "      <td>A74</td>\n",
              "      <td>2</td>\n",
              "      <td>A93</td>\n",
              "      <td>...</td>\n",
              "      <td>45</td>\n",
              "      <td>A143</td>\n",
              "      <td>A153</td>\n",
              "      <td>1</td>\n",
              "      <td>A173</td>\n",
              "      <td>2</td>\n",
              "      <td>A191</td>\n",
              "      <td>A201</td>\n",
              "      <td>0</td>\n",
              "      <td>1</td>\n",
              "    </tr>\n",
              "    <tr>\n",
              "      <th>4</th>\n",
              "      <td>100005</td>\n",
              "      <td>A11</td>\n",
              "      <td>24</td>\n",
              "      <td>A33</td>\n",
              "      <td>A40</td>\n",
              "      <td>4870</td>\n",
              "      <td>A61</td>\n",
              "      <td>A73</td>\n",
              "      <td>3</td>\n",
              "      <td>A93</td>\n",
              "      <td>...</td>\n",
              "      <td>53</td>\n",
              "      <td>A143</td>\n",
              "      <td>A153</td>\n",
              "      <td>2</td>\n",
              "      <td>A173</td>\n",
              "      <td>2</td>\n",
              "      <td>A191</td>\n",
              "      <td>A201</td>\n",
              "      <td>1</td>\n",
              "      <td>1</td>\n",
              "    </tr>\n",
              "  </tbody>\n",
              "</table>\n",
              "<p>5 rows × 23 columns</p>\n",
              "</div>\n",
              "      <button class=\"colab-df-convert\" onclick=\"convertToInteractive('df-c05b819c-ca42-4ba0-83a7-279fa7cb2bf1')\"\n",
              "              title=\"Convert this dataframe to an interactive table.\"\n",
              "              style=\"display:none;\">\n",
              "        \n",
              "  <svg xmlns=\"http://www.w3.org/2000/svg\" height=\"24px\"viewBox=\"0 0 24 24\"\n",
              "       width=\"24px\">\n",
              "    <path d=\"M0 0h24v24H0V0z\" fill=\"none\"/>\n",
              "    <path d=\"M18.56 5.44l.94 2.06.94-2.06 2.06-.94-2.06-.94-.94-2.06-.94 2.06-2.06.94zm-11 1L8.5 8.5l.94-2.06 2.06-.94-2.06-.94L8.5 2.5l-.94 2.06-2.06.94zm10 10l.94 2.06.94-2.06 2.06-.94-2.06-.94-.94-2.06-.94 2.06-2.06.94z\"/><path d=\"M17.41 7.96l-1.37-1.37c-.4-.4-.92-.59-1.43-.59-.52 0-1.04.2-1.43.59L10.3 9.45l-7.72 7.72c-.78.78-.78 2.05 0 2.83L4 21.41c.39.39.9.59 1.41.59.51 0 1.02-.2 1.41-.59l7.78-7.78 2.81-2.81c.8-.78.8-2.07 0-2.86zM5.41 20L4 18.59l7.72-7.72 1.47 1.35L5.41 20z\"/>\n",
              "  </svg>\n",
              "      </button>\n",
              "      \n",
              "  <style>\n",
              "    .colab-df-container {\n",
              "      display:flex;\n",
              "      flex-wrap:wrap;\n",
              "      gap: 12px;\n",
              "    }\n",
              "\n",
              "    .colab-df-convert {\n",
              "      background-color: #E8F0FE;\n",
              "      border: none;\n",
              "      border-radius: 50%;\n",
              "      cursor: pointer;\n",
              "      display: none;\n",
              "      fill: #1967D2;\n",
              "      height: 32px;\n",
              "      padding: 0 0 0 0;\n",
              "      width: 32px;\n",
              "    }\n",
              "\n",
              "    .colab-df-convert:hover {\n",
              "      background-color: #E2EBFA;\n",
              "      box-shadow: 0px 1px 2px rgba(60, 64, 67, 0.3), 0px 1px 3px 1px rgba(60, 64, 67, 0.15);\n",
              "      fill: #174EA6;\n",
              "    }\n",
              "\n",
              "    [theme=dark] .colab-df-convert {\n",
              "      background-color: #3B4455;\n",
              "      fill: #D2E3FC;\n",
              "    }\n",
              "\n",
              "    [theme=dark] .colab-df-convert:hover {\n",
              "      background-color: #434B5C;\n",
              "      box-shadow: 0px 1px 3px 1px rgba(0, 0, 0, 0.15);\n",
              "      filter: drop-shadow(0px 1px 2px rgba(0, 0, 0, 0.3));\n",
              "      fill: #FFFFFF;\n",
              "    }\n",
              "  </style>\n",
              "\n",
              "      <script>\n",
              "        const buttonEl =\n",
              "          document.querySelector('#df-c05b819c-ca42-4ba0-83a7-279fa7cb2bf1 button.colab-df-convert');\n",
              "        buttonEl.style.display =\n",
              "          google.colab.kernel.accessAllowed ? 'block' : 'none';\n",
              "\n",
              "        async function convertToInteractive(key) {\n",
              "          const element = document.querySelector('#df-c05b819c-ca42-4ba0-83a7-279fa7cb2bf1');\n",
              "          const dataTable =\n",
              "            await google.colab.kernel.invokeFunction('convertToInteractive',\n",
              "                                                     [key], {});\n",
              "          if (!dataTable) return;\n",
              "\n",
              "          const docLinkHtml = 'Like what you see? Visit the ' +\n",
              "            '<a target=\"_blank\" href=https://colab.research.google.com/notebooks/data_table.ipynb>data table notebook</a>'\n",
              "            + ' to learn more about interactive tables.';\n",
              "          element.innerHTML = '';\n",
              "          dataTable['output_type'] = 'display_data';\n",
              "          await google.colab.output.renderOutput(dataTable, element);\n",
              "          const docLink = document.createElement('div');\n",
              "          docLink.innerHTML = docLinkHtml;\n",
              "          element.appendChild(docLink);\n",
              "        }\n",
              "      </script>\n",
              "    </div>\n",
              "  </div>\n",
              "  "
            ]
          },
          "metadata": {},
          "execution_count": 9
        }
      ]
    },
    {
      "cell_type": "code",
      "source": [
        "df_K.shape"
      ],
      "metadata": {
        "id": "H076zlHi030x",
        "colab": {
          "base_uri": "https://localhost:8080/"
        },
        "outputId": "b92eb72f-7d98-4b2c-c330-90a7c777c91c"
      },
      "execution_count": null,
      "outputs": [
        {
          "output_type": "execute_result",
          "data": {
            "text/plain": [
              "(5000, 23)"
            ]
          },
          "metadata": {},
          "execution_count": 10
        }
      ]
    },
    {
      "cell_type": "code",
      "source": [
        "df_K.columns"
      ],
      "metadata": {
        "id": "aCCUwMaJ034X",
        "colab": {
          "base_uri": "https://localhost:8080/"
        },
        "outputId": "1fb9afac-c547-49e1-a033-4f060e729086"
      },
      "execution_count": null,
      "outputs": [
        {
          "output_type": "execute_result",
          "data": {
            "text/plain": [
              "Index(['Customer_ID', 'Status_Checking_Acc', 'Duration_in_Months',\n",
              "       'Credit_History', 'Purposre_Credit_Taken', 'Credit_Amount',\n",
              "       'Savings_Acc', 'Years_At_Present_Employment', 'Inst_Rt_Income',\n",
              "       'Marital_Status_Gender', 'Other_Debtors_Guarantors',\n",
              "       'Current_Address_Yrs', 'Property', 'Age', 'Other_Inst_Plans ',\n",
              "       'Housing', 'Num_CC', 'Job', 'Dependents', 'Telephone', 'Foreign_Worker',\n",
              "       'Default_On_Payment', 'Count'],\n",
              "      dtype='object')"
            ]
          },
          "metadata": {},
          "execution_count": 11
        }
      ]
    },
    {
      "cell_type": "code",
      "source": [
        "df_K.isna().sum().sum() # no missing values"
      ],
      "metadata": {
        "id": "WhsRkrsx039E",
        "colab": {
          "base_uri": "https://localhost:8080/"
        },
        "outputId": "cd94702a-7fac-489b-e45b-1f8e862d1742"
      },
      "execution_count": null,
      "outputs": [
        {
          "output_type": "execute_result",
          "data": {
            "text/plain": [
              "0"
            ]
          },
          "metadata": {},
          "execution_count": 12
        }
      ]
    },
    {
      "cell_type": "code",
      "source": [
        "df_K.duplicated().sum() # no duplicates"
      ],
      "metadata": {
        "id": "YC56QCfM04AZ",
        "colab": {
          "base_uri": "https://localhost:8080/"
        },
        "outputId": "eb290d7b-221e-4f37-f5d9-b95df619c72a"
      },
      "execution_count": null,
      "outputs": [
        {
          "output_type": "execute_result",
          "data": {
            "text/plain": [
              "0"
            ]
          },
          "metadata": {},
          "execution_count": 13
        }
      ]
    },
    {
      "cell_type": "code",
      "source": [
        "# Target distribution\n",
        "df_K.Default_On_Payment.value_counts(normalize=True)"
      ],
      "metadata": {
        "id": "sXu_EAid04EF",
        "colab": {
          "base_uri": "https://localhost:8080/"
        },
        "outputId": "10051284-e2e1-4ef9-9b6e-55e53893860d"
      },
      "execution_count": null,
      "outputs": [
        {
          "output_type": "execute_result",
          "data": {
            "text/plain": [
              "0    0.701\n",
              "1    0.299\n",
              "Name: Default_On_Payment, dtype: float64"
            ]
          },
          "metadata": {},
          "execution_count": 14
        }
      ]
    },
    {
      "cell_type": "code",
      "source": [
        "df_K.Count.nunique()"
      ],
      "metadata": {
        "id": "lVaRbupx1s0G",
        "colab": {
          "base_uri": "https://localhost:8080/"
        },
        "outputId": "60f30b3c-5a6f-4f1a-cfb2-3620747deac2"
      },
      "execution_count": null,
      "outputs": [
        {
          "output_type": "execute_result",
          "data": {
            "text/plain": [
              "1"
            ]
          },
          "metadata": {},
          "execution_count": 16
        }
      ]
    },
    {
      "cell_type": "code",
      "source": [
        "df_K.Customer_ID.nunique()"
      ],
      "metadata": {
        "id": "X2XpaJKY04IR",
        "colab": {
          "base_uri": "https://localhost:8080/"
        },
        "outputId": "5c19429b-4383-4c02-ee7b-fca566bda912"
      },
      "execution_count": null,
      "outputs": [
        {
          "output_type": "execute_result",
          "data": {
            "text/plain": [
              "5000"
            ]
          },
          "metadata": {},
          "execution_count": 15
        }
      ]
    },
    {
      "cell_type": "markdown",
      "source": [
        "- The \"Count\" column only takes one value equal to 1, so we will delete it.\n",
        "- The \"Customer_ID\" column takes df_K.shape[0] distinct values, we will also delete it."
      ],
      "metadata": {
        "id": "EXUgx5-AA9ZS"
      }
    },
    {
      "cell_type": "code",
      "source": [
        "df_K.drop(['Count', 'Customer_ID'], axis=1, inplace=True)"
      ],
      "metadata": {
        "id": "xRj9-lgO1s6k"
      },
      "execution_count": null,
      "outputs": []
    },
    {
      "cell_type": "code",
      "source": [
        "df_K.duplicated().sum()"
      ],
      "metadata": {
        "id": "82ASFFnH1s-8",
        "colab": {
          "base_uri": "https://localhost:8080/"
        },
        "outputId": "8dd8fb8e-b91a-4f2c-a38f-94ccc4a74da9"
      },
      "execution_count": null,
      "outputs": [
        {
          "output_type": "execute_result",
          "data": {
            "text/plain": [
              "4000"
            ]
          },
          "metadata": {},
          "execution_count": 19
        }
      ]
    },
    {
      "cell_type": "markdown",
      "source": [
        "By dropping the ID column which distinguishes the clients, we have 4/5 of the duplicated observations. By keeping it, the analysis would be biased because it would be the same observations with different IDs. We will therefore remove the duplicate values."
      ],
      "metadata": {
        "id": "5iIN5WWS2GPj"
      }
    },
    {
      "cell_type": "code",
      "source": [
        "df_K.drop_duplicates(keep='first', inplace=True)"
      ],
      "metadata": {
        "id": "GOKZUIWY1tCz"
      },
      "execution_count": null,
      "outputs": []
    },
    {
      "cell_type": "code",
      "source": [
        "df_K.shape"
      ],
      "metadata": {
        "id": "MNGeDXqd2bdu",
        "colab": {
          "base_uri": "https://localhost:8080/"
        },
        "outputId": "32c4d497-7ef6-449a-f30f-02b0bc4bdf6d"
      },
      "execution_count": null,
      "outputs": [
        {
          "output_type": "execute_result",
          "data": {
            "text/plain": [
              "(1000, 21)"
            ]
          },
          "metadata": {},
          "execution_count": 21
        }
      ]
    },
    {
      "cell_type": "markdown",
      "source": [
        "By deleting the duplicate columns, we lose a lot of data (4/5 of the database)!"
      ],
      "metadata": {
        "id": "hQHvbjX32if5"
      }
    },
    {
      "cell_type": "code",
      "source": [
        "df_K.dtypes"
      ],
      "metadata": {
        "colab": {
          "base_uri": "https://localhost:8080/"
        },
        "id": "24kF8M026XPi",
        "outputId": "3cced630-ae75-4ea9-a0a0-62bff31cf33d"
      },
      "execution_count": null,
      "outputs": [
        {
          "output_type": "execute_result",
          "data": {
            "text/plain": [
              "Status_Checking_Acc            object\n",
              "Duration_in_Months              int64\n",
              "Credit_History                 object\n",
              "Purposre_Credit_Taken          object\n",
              "Credit_Amount                   int64\n",
              "Savings_Acc                    object\n",
              "Years_At_Present_Employment    object\n",
              "Inst_Rt_Income                  int64\n",
              "Marital_Status_Gender          object\n",
              "Other_Debtors_Guarantors       object\n",
              "Current_Address_Yrs             int64\n",
              "Property                       object\n",
              "Age                             int64\n",
              "Other_Inst_Plans               object\n",
              "Housing                        object\n",
              "Num_CC                          int64\n",
              "Job                            object\n",
              "Dependents                      int64\n",
              "Telephone                      object\n",
              "Foreign_Worker                 object\n",
              "Default_On_Payment              int64\n",
              "dtype: object"
            ]
          },
          "metadata": {},
          "execution_count": 22
        }
      ]
    },
    {
      "cell_type": "code",
      "source": [
        "df_K.describe()[1:].round(2)"
      ],
      "metadata": {
        "colab": {
          "base_uri": "https://localhost:8080/",
          "height": 269
        },
        "id": "ixRCUFTX6dtZ",
        "outputId": "87d65815-b7d8-4a27-f941-2211970a40b5"
      },
      "execution_count": null,
      "outputs": [
        {
          "output_type": "execute_result",
          "data": {
            "text/plain": [
              "      Duration_in_Months  Credit_Amount  Inst_Rt_Income  Current_Address_Yrs  \\\n",
              "mean               20.90        3271.26            2.97                 2.84   \n",
              "std                12.06        2822.74            1.12                 1.10   \n",
              "min                 4.00         250.00            1.00                 1.00   \n",
              "25%                12.00        1365.50            2.00                 2.00   \n",
              "50%                18.00        2319.50            3.00                 3.00   \n",
              "75%                24.00        3972.25            4.00                 4.00   \n",
              "max                72.00       18424.00            4.00                 4.00   \n",
              "\n",
              "        Age  Num_CC  Dependents  Default_On_Payment  \n",
              "mean  35.55    1.41        1.16                0.30  \n",
              "std   11.38    0.58        0.36                0.46  \n",
              "min   19.00    1.00        1.00                0.00  \n",
              "25%   27.00    1.00        1.00                0.00  \n",
              "50%   33.00    1.00        1.00                0.00  \n",
              "75%   42.00    2.00        1.00                1.00  \n",
              "max   75.00    4.00        2.00                1.00  "
            ],
            "text/html": [
              "\n",
              "  <div id=\"df-d44449bd-83e1-4be7-8e5e-a23b30f6a53e\">\n",
              "    <div class=\"colab-df-container\">\n",
              "      <div>\n",
              "<style scoped>\n",
              "    .dataframe tbody tr th:only-of-type {\n",
              "        vertical-align: middle;\n",
              "    }\n",
              "\n",
              "    .dataframe tbody tr th {\n",
              "        vertical-align: top;\n",
              "    }\n",
              "\n",
              "    .dataframe thead th {\n",
              "        text-align: right;\n",
              "    }\n",
              "</style>\n",
              "<table border=\"1\" class=\"dataframe\">\n",
              "  <thead>\n",
              "    <tr style=\"text-align: right;\">\n",
              "      <th></th>\n",
              "      <th>Duration_in_Months</th>\n",
              "      <th>Credit_Amount</th>\n",
              "      <th>Inst_Rt_Income</th>\n",
              "      <th>Current_Address_Yrs</th>\n",
              "      <th>Age</th>\n",
              "      <th>Num_CC</th>\n",
              "      <th>Dependents</th>\n",
              "      <th>Default_On_Payment</th>\n",
              "    </tr>\n",
              "  </thead>\n",
              "  <tbody>\n",
              "    <tr>\n",
              "      <th>mean</th>\n",
              "      <td>20.90</td>\n",
              "      <td>3271.26</td>\n",
              "      <td>2.97</td>\n",
              "      <td>2.84</td>\n",
              "      <td>35.55</td>\n",
              "      <td>1.41</td>\n",
              "      <td>1.16</td>\n",
              "      <td>0.30</td>\n",
              "    </tr>\n",
              "    <tr>\n",
              "      <th>std</th>\n",
              "      <td>12.06</td>\n",
              "      <td>2822.74</td>\n",
              "      <td>1.12</td>\n",
              "      <td>1.10</td>\n",
              "      <td>11.38</td>\n",
              "      <td>0.58</td>\n",
              "      <td>0.36</td>\n",
              "      <td>0.46</td>\n",
              "    </tr>\n",
              "    <tr>\n",
              "      <th>min</th>\n",
              "      <td>4.00</td>\n",
              "      <td>250.00</td>\n",
              "      <td>1.00</td>\n",
              "      <td>1.00</td>\n",
              "      <td>19.00</td>\n",
              "      <td>1.00</td>\n",
              "      <td>1.00</td>\n",
              "      <td>0.00</td>\n",
              "    </tr>\n",
              "    <tr>\n",
              "      <th>25%</th>\n",
              "      <td>12.00</td>\n",
              "      <td>1365.50</td>\n",
              "      <td>2.00</td>\n",
              "      <td>2.00</td>\n",
              "      <td>27.00</td>\n",
              "      <td>1.00</td>\n",
              "      <td>1.00</td>\n",
              "      <td>0.00</td>\n",
              "    </tr>\n",
              "    <tr>\n",
              "      <th>50%</th>\n",
              "      <td>18.00</td>\n",
              "      <td>2319.50</td>\n",
              "      <td>3.00</td>\n",
              "      <td>3.00</td>\n",
              "      <td>33.00</td>\n",
              "      <td>1.00</td>\n",
              "      <td>1.00</td>\n",
              "      <td>0.00</td>\n",
              "    </tr>\n",
              "    <tr>\n",
              "      <th>75%</th>\n",
              "      <td>24.00</td>\n",
              "      <td>3972.25</td>\n",
              "      <td>4.00</td>\n",
              "      <td>4.00</td>\n",
              "      <td>42.00</td>\n",
              "      <td>2.00</td>\n",
              "      <td>1.00</td>\n",
              "      <td>1.00</td>\n",
              "    </tr>\n",
              "    <tr>\n",
              "      <th>max</th>\n",
              "      <td>72.00</td>\n",
              "      <td>18424.00</td>\n",
              "      <td>4.00</td>\n",
              "      <td>4.00</td>\n",
              "      <td>75.00</td>\n",
              "      <td>4.00</td>\n",
              "      <td>2.00</td>\n",
              "      <td>1.00</td>\n",
              "    </tr>\n",
              "  </tbody>\n",
              "</table>\n",
              "</div>\n",
              "      <button class=\"colab-df-convert\" onclick=\"convertToInteractive('df-d44449bd-83e1-4be7-8e5e-a23b30f6a53e')\"\n",
              "              title=\"Convert this dataframe to an interactive table.\"\n",
              "              style=\"display:none;\">\n",
              "        \n",
              "  <svg xmlns=\"http://www.w3.org/2000/svg\" height=\"24px\"viewBox=\"0 0 24 24\"\n",
              "       width=\"24px\">\n",
              "    <path d=\"M0 0h24v24H0V0z\" fill=\"none\"/>\n",
              "    <path d=\"M18.56 5.44l.94 2.06.94-2.06 2.06-.94-2.06-.94-.94-2.06-.94 2.06-2.06.94zm-11 1L8.5 8.5l.94-2.06 2.06-.94-2.06-.94L8.5 2.5l-.94 2.06-2.06.94zm10 10l.94 2.06.94-2.06 2.06-.94-2.06-.94-.94-2.06-.94 2.06-2.06.94z\"/><path d=\"M17.41 7.96l-1.37-1.37c-.4-.4-.92-.59-1.43-.59-.52 0-1.04.2-1.43.59L10.3 9.45l-7.72 7.72c-.78.78-.78 2.05 0 2.83L4 21.41c.39.39.9.59 1.41.59.51 0 1.02-.2 1.41-.59l7.78-7.78 2.81-2.81c.8-.78.8-2.07 0-2.86zM5.41 20L4 18.59l7.72-7.72 1.47 1.35L5.41 20z\"/>\n",
              "  </svg>\n",
              "      </button>\n",
              "      \n",
              "  <style>\n",
              "    .colab-df-container {\n",
              "      display:flex;\n",
              "      flex-wrap:wrap;\n",
              "      gap: 12px;\n",
              "    }\n",
              "\n",
              "    .colab-df-convert {\n",
              "      background-color: #E8F0FE;\n",
              "      border: none;\n",
              "      border-radius: 50%;\n",
              "      cursor: pointer;\n",
              "      display: none;\n",
              "      fill: #1967D2;\n",
              "      height: 32px;\n",
              "      padding: 0 0 0 0;\n",
              "      width: 32px;\n",
              "    }\n",
              "\n",
              "    .colab-df-convert:hover {\n",
              "      background-color: #E2EBFA;\n",
              "      box-shadow: 0px 1px 2px rgba(60, 64, 67, 0.3), 0px 1px 3px 1px rgba(60, 64, 67, 0.15);\n",
              "      fill: #174EA6;\n",
              "    }\n",
              "\n",
              "    [theme=dark] .colab-df-convert {\n",
              "      background-color: #3B4455;\n",
              "      fill: #D2E3FC;\n",
              "    }\n",
              "\n",
              "    [theme=dark] .colab-df-convert:hover {\n",
              "      background-color: #434B5C;\n",
              "      box-shadow: 0px 1px 3px 1px rgba(0, 0, 0, 0.15);\n",
              "      filter: drop-shadow(0px 1px 2px rgba(0, 0, 0, 0.3));\n",
              "      fill: #FFFFFF;\n",
              "    }\n",
              "  </style>\n",
              "\n",
              "      <script>\n",
              "        const buttonEl =\n",
              "          document.querySelector('#df-d44449bd-83e1-4be7-8e5e-a23b30f6a53e button.colab-df-convert');\n",
              "        buttonEl.style.display =\n",
              "          google.colab.kernel.accessAllowed ? 'block' : 'none';\n",
              "\n",
              "        async function convertToInteractive(key) {\n",
              "          const element = document.querySelector('#df-d44449bd-83e1-4be7-8e5e-a23b30f6a53e');\n",
              "          const dataTable =\n",
              "            await google.colab.kernel.invokeFunction('convertToInteractive',\n",
              "                                                     [key], {});\n",
              "          if (!dataTable) return;\n",
              "\n",
              "          const docLinkHtml = 'Like what you see? Visit the ' +\n",
              "            '<a target=\"_blank\" href=https://colab.research.google.com/notebooks/data_table.ipynb>data table notebook</a>'\n",
              "            + ' to learn more about interactive tables.';\n",
              "          element.innerHTML = '';\n",
              "          dataTable['output_type'] = 'display_data';\n",
              "          await google.colab.output.renderOutput(dataTable, element);\n",
              "          const docLink = document.createElement('div');\n",
              "          docLink.innerHTML = docLinkHtml;\n",
              "          element.appendChild(docLink);\n",
              "        }\n",
              "      </script>\n",
              "    </div>\n",
              "  </div>\n",
              "  "
            ]
          },
          "metadata": {},
          "execution_count": 23
        }
      ]
    },
    {
      "cell_type": "markdown",
      "source": [
        "## Preprocessing"
      ],
      "metadata": {
        "id": "o857I8ZG3VCk"
      }
    },
    {
      "cell_type": "code",
      "source": [
        "# removing blank in variable name for better column manipulation\n",
        "df_K.rename(columns = {'Other_Inst_Plans ':'Other_Inst_Plans'}, inplace = True)"
      ],
      "metadata": {
        "id": "74skYhQ02bhV"
      },
      "execution_count": null,
      "outputs": []
    },
    {
      "cell_type": "code",
      "source": [
        "df_K.Default_On_Payment.value_counts()"
      ],
      "metadata": {
        "id": "KcumUfQ82blA",
        "colab": {
          "base_uri": "https://localhost:8080/"
        },
        "outputId": "dc7570f7-c3c5-4cb4-ab5a-2888827b32dc"
      },
      "execution_count": null,
      "outputs": [
        {
          "output_type": "execute_result",
          "data": {
            "text/plain": [
              "0    701\n",
              "1    299\n",
              "Name: Default_On_Payment, dtype: int64"
            ]
          },
          "metadata": {},
          "execution_count": 25
        }
      ]
    },
    {
      "cell_type": "markdown",
      "source": [
        "The proportion of defaults did not change from that obtained before deleting duplicates."
      ],
      "metadata": {
        "id": "Vu7feHJE0oo7"
      }
    },
    {
      "cell_type": "markdown",
      "source": [
        "### Correlation"
      ],
      "metadata": {
        "id": "sY8mxRQ305Mz"
      }
    },
    {
      "cell_type": "code",
      "source": [
        "corrmat = df_K.corr()\n",
        "top_corr_features = corrmat.index\n",
        "plt.figure(figsize=(8,3))\n",
        "sns.heatmap(df_K[top_corr_features].corr(),annot=True,cbar=False,cmap=\"coolwarm\",\n",
        "            mask=np.triu(np.ones_like(corrmat, dtype = bool))).set_title('Correlation Matrix');"
      ],
      "metadata": {
        "id": "OB12N7KB2boo",
        "colab": {
          "base_uri": "https://localhost:8080/",
          "height": 321
        },
        "outputId": "ea0acc74-a335-4cd4-ff7d-f6b5ed264be9"
      },
      "execution_count": null,
      "outputs": [
        {
          "output_type": "display_data",
          "data": {
            "text/plain": [
              "<Figure size 576x216 with 1 Axes>"
            ],
            "image/png": "[encoded data removed]"
          },
          "metadata": {
            "needs_background": "light"
          }
        }
      ]
    },
    {
      "cell_type": "markdown",
      "source": [
        "Correlation is ok."
      ],
      "metadata": {
        "id": "um2EAj3c2zsv"
      }
    },
    {
      "cell_type": "code",
      "source": [
        "# list of categorical variables\n",
        "categori = []\n",
        "for col in df_K.columns:\n",
        "  if df_K[col].dtype == 'O':\n",
        "    categori.append(col)\n",
        "\n",
        "categori"
      ],
      "metadata": {
        "colab": {
          "base_uri": "https://localhost:8080/"
        },
        "id": "i4l-46FOd_lE",
        "outputId": "bac0440e-bb82-4083-b8a1-4d953507718f"
      },
      "execution_count": null,
      "outputs": [
        {
          "output_type": "execute_result",
          "data": {
            "text/plain": [
              "['Status_Checking_Acc',\n",
              " 'Credit_History',\n",
              " 'Purposre_Credit_Taken',\n",
              " 'Savings_Acc',\n",
              " 'Years_At_Present_Employment',\n",
              " 'Marital_Status_Gender',\n",
              " 'Other_Debtors_Guarantors',\n",
              " 'Property',\n",
              " 'Other_Inst_Plans',\n",
              " 'Housing',\n",
              " 'Job',\n",
              " 'Telephone',\n",
              " 'Foreign_Worker']"
            ]
          },
          "metadata": {},
          "execution_count": 28
        }
      ]
    },
    {
      "cell_type": "code",
      "source": [
        "for col in categori:\n",
        "    print(f\"\\033[1m {col}\\033[0m has \\033[1m{df_K[col].nunique()}\\033[0m distinct values.\") "
      ],
      "metadata": {
        "id": "iNqS83T6KmNc",
        "colab": {
          "base_uri": "https://localhost:8080/"
        },
        "outputId": "c46b110d-e86b-4b4c-d095-7cf9ba245bf4"
      },
      "execution_count": null,
      "outputs": [
        {
          "output_type": "stream",
          "name": "stdout",
          "text": [
            "\u001b[1m Status_Checking_Acc\u001b[0m has \u001b[1m4\u001b[0m distinct values.\n",
            "\u001b[1m Credit_History\u001b[0m has \u001b[1m5\u001b[0m distinct values.\n",
            "\u001b[1m Purposre_Credit_Taken\u001b[0m has \u001b[1m10\u001b[0m distinct values.\n",
            "\u001b[1m Savings_Acc\u001b[0m has \u001b[1m5\u001b[0m distinct values.\n",
            "\u001b[1m Years_At_Present_Employment\u001b[0m has \u001b[1m5\u001b[0m distinct values.\n",
            "\u001b[1m Marital_Status_Gender\u001b[0m has \u001b[1m4\u001b[0m distinct values.\n",
            "\u001b[1m Other_Debtors_Guarantors\u001b[0m has \u001b[1m3\u001b[0m distinct values.\n",
            "\u001b[1m Property\u001b[0m has \u001b[1m4\u001b[0m distinct values.\n",
            "\u001b[1m Other_Inst_Plans\u001b[0m has \u001b[1m3\u001b[0m distinct values.\n",
            "\u001b[1m Housing\u001b[0m has \u001b[1m3\u001b[0m distinct values.\n",
            "\u001b[1m Job\u001b[0m has \u001b[1m4\u001b[0m distinct values.\n",
            "\u001b[1m Telephone\u001b[0m has \u001b[1m2\u001b[0m distinct values.\n",
            "\u001b[1m Foreign_Worker\u001b[0m has \u001b[1m2\u001b[0m distinct values.\n"
          ]
        }
      ]
    },
    {
      "cell_type": "markdown",
      "source": [
        "The Savings account/bonds variable takes the following modalities:\n",
        "- A61: … < 1000 USD\n",
        "- A62: 1000 <= … < 5000 USD\n",
        "- A63: 5000 <= … < 10000 USD\n",
        "- A64: .. >= 10000 USD\n",
        "- A65: unknown/ no savings account\n",
        "\n",
        "We are going to make a slight modification by replacing A65 by A60 in order to keep an ascending order."
      ],
      "metadata": {
        "id": "krCYhxGCCoSm"
      }
    },
    {
      "cell_type": "code",
      "source": [
        "df_K['Savings_Acc'] = df_K['Savings_Acc'].replace(to_replace='A65', value='A60')"
      ],
      "metadata": {
        "id": "QCzph5yu2PcW"
      },
      "execution_count": null,
      "outputs": []
    },
    {
      "cell_type": "markdown",
      "source": [
        "## MCA"
      ],
      "metadata": {
        "id": "Mu5-QPeU73TL"
      }
    },
    {
      "cell_type": "code",
      "source": [
        "df_mca = df_K.copy()"
      ],
      "metadata": {
        "id": "eHhRkZ_98LIT"
      },
      "execution_count": null,
      "outputs": []
    },
    {
      "cell_type": "code",
      "source": [
        "# list of numerical variables\n",
        "numeric = []\n",
        "for col in df_mca.columns:\n",
        "  if df_K[col].dtype == 'int64':\n",
        "    numeric.append(col)\n",
        "\n",
        "numeric"
      ],
      "metadata": {
        "colab": {
          "base_uri": "https://localhost:8080/"
        },
        "id": "GDzQ-PTduWfG",
        "outputId": "a4d4a166-e59c-42e0-80fe-d68e59a86f8f"
      },
      "execution_count": null,
      "outputs": [
        {
          "output_type": "execute_result",
          "data": {
            "text/plain": [
              "['Duration_in_Months',\n",
              " 'Credit_Amount',\n",
              " 'Inst_Rt_Income',\n",
              " 'Current_Address_Yrs',\n",
              " 'Age',\n",
              " 'Num_CC',\n",
              " 'Dependents',\n",
              " 'Default_On_Payment']"
            ]
          },
          "metadata": {},
          "execution_count": 33
        }
      ]
    },
    {
      "cell_type": "code",
      "source": [
        "df_mca[numeric].head()"
      ],
      "metadata": {
        "colab": {
          "base_uri": "https://localhost:8080/",
          "height": 206
        },
        "id": "Wu8Tv7ZU8LKy",
        "outputId": "404e7d18-4c5e-4ab2-a6a3-5b7da87827e5"
      },
      "execution_count": null,
      "outputs": [
        {
          "output_type": "execute_result",
          "data": {
            "text/plain": [
              "   Duration_in_Months  Credit_Amount  Inst_Rt_Income  Current_Address_Yrs  \\\n",
              "0                   6           1169               4                    4   \n",
              "1                  48           5951               2                    2   \n",
              "2                  12           2096               2                    3   \n",
              "3                  42           7882               2                    4   \n",
              "4                  24           4870               3                    4   \n",
              "\n",
              "   Age  Num_CC  Dependents  Default_On_Payment  \n",
              "0   67       2           1                   0  \n",
              "1   22       1           1                   0  \n",
              "2   49       1           2                   0  \n",
              "3   45       1           2                   0  \n",
              "4   53       2           2                   1  "
            ],
            "text/html": [
              "\n",
              "  <div id=\"df-adb9f929-76b8-435b-8699-c58ec014f664\">\n",
              "    <div class=\"colab-df-container\">\n",
              "      <div>\n",
              "<style scoped>\n",
              "    .dataframe tbody tr th:only-of-type {\n",
              "        vertical-align: middle;\n",
              "    }\n",
              "\n",
              "    .dataframe tbody tr th {\n",
              "        vertical-align: top;\n",
              "    }\n",
              "\n",
              "    .dataframe thead th {\n",
              "        text-align: right;\n",
              "    }\n",
              "</style>\n",
              "<table border=\"1\" class=\"dataframe\">\n",
              "  <thead>\n",
              "    <tr style=\"text-align: right;\">\n",
              "      <th></th>\n",
              "      <th>Duration_in_Months</th>\n",
              "      <th>Credit_Amount</th>\n",
              "      <th>Inst_Rt_Income</th>\n",
              "      <th>Current_Address_Yrs</th>\n",
              "      <th>Age</th>\n",
              "      <th>Num_CC</th>\n",
              "      <th>Dependents</th>\n",
              "      <th>Default_On_Payment</th>\n",
              "    </tr>\n",
              "  </thead>\n",
              "  <tbody>\n",
              "    <tr>\n",
              "      <th>0</th>\n",
              "      <td>6</td>\n",
              "      <td>1169</td>\n",
              "      <td>4</td>\n",
              "      <td>4</td>\n",
              "      <td>67</td>\n",
              "      <td>2</td>\n",
              "      <td>1</td>\n",
              "      <td>0</td>\n",
              "    </tr>\n",
              "    <tr>\n",
              "      <th>1</th>\n",
              "      <td>48</td>\n",
              "      <td>5951</td>\n",
              "      <td>2</td>\n",
              "      <td>2</td>\n",
              "      <td>22</td>\n",
              "      <td>1</td>\n",
              "      <td>1</td>\n",
              "      <td>0</td>\n",
              "    </tr>\n",
              "    <tr>\n",
              "      <th>2</th>\n",
              "      <td>12</td>\n",
              "      <td>2096</td>\n",
              "      <td>2</td>\n",
              "      <td>3</td>\n",
              "      <td>49</td>\n",
              "      <td>1</td>\n",
              "      <td>2</td>\n",
              "      <td>0</td>\n",
              "    </tr>\n",
              "    <tr>\n",
              "      <th>3</th>\n",
              "      <td>42</td>\n",
              "      <td>7882</td>\n",
              "      <td>2</td>\n",
              "      <td>4</td>\n",
              "      <td>45</td>\n",
              "      <td>1</td>\n",
              "      <td>2</td>\n",
              "      <td>0</td>\n",
              "    </tr>\n",
              "    <tr>\n",
              "      <th>4</th>\n",
              "      <td>24</td>\n",
              "      <td>4870</td>\n",
              "      <td>3</td>\n",
              "      <td>4</td>\n",
              "      <td>53</td>\n",
              "      <td>2</td>\n",
              "      <td>2</td>\n",
              "      <td>1</td>\n",
              "    </tr>\n",
              "  </tbody>\n",
              "</table>\n",
              "</div>\n",
              "      <button class=\"colab-df-convert\" onclick=\"convertToInteractive('df-adb9f929-76b8-435b-8699-c58ec014f664')\"\n",
              "              title=\"Convert this dataframe to an interactive table.\"\n",
              "              style=\"display:none;\">\n",
              "        \n",
              "  <svg xmlns=\"http://www.w3.org/2000/svg\" height=\"24px\"viewBox=\"0 0 24 24\"\n",
              "       width=\"24px\">\n",
              "    <path d=\"M0 0h24v24H0V0z\" fill=\"none\"/>\n",
              "    <path d=\"M18.56 5.44l.94 2.06.94-2.06 2.06-.94-2.06-.94-.94-2.06-.94 2.06-2.06.94zm-11 1L8.5 8.5l.94-2.06 2.06-.94-2.06-.94L8.5 2.5l-.94 2.06-2.06.94zm10 10l.94 2.06.94-2.06 2.06-.94-2.06-.94-.94-2.06-.94 2.06-2.06.94z\"/><path d=\"M17.41 7.96l-1.37-1.37c-.4-.4-.92-.59-1.43-.59-.52 0-1.04.2-1.43.59L10.3 9.45l-7.72 7.72c-.78.78-.78 2.05 0 2.83L4 21.41c.39.39.9.59 1.41.59.51 0 1.02-.2 1.41-.59l7.78-7.78 2.81-2.81c.8-.78.8-2.07 0-2.86zM5.41 20L4 18.59l7.72-7.72 1.47 1.35L5.41 20z\"/>\n",
              "  </svg>\n",
              "      </button>\n",
              "      \n",
              "  <style>\n",
              "    .colab-df-container {\n",
              "      display:flex;\n",
              "      flex-wrap:wrap;\n",
              "      gap: 12px;\n",
              "    }\n",
              "\n",
              "    .colab-df-convert {\n",
              "      background-color: #E8F0FE;\n",
              "      border: none;\n",
              "      border-radius: 50%;\n",
              "      cursor: pointer;\n",
              "      display: none;\n",
              "      fill: #1967D2;\n",
              "      height: 32px;\n",
              "      padding: 0 0 0 0;\n",
              "      width: 32px;\n",
              "    }\n",
              "\n",
              "    .colab-df-convert:hover {\n",
              "      background-color: #E2EBFA;\n",
              "      box-shadow: 0px 1px 2px rgba(60, 64, 67, 0.3), 0px 1px 3px 1px rgba(60, 64, 67, 0.15);\n",
              "      fill: #174EA6;\n",
              "    }\n",
              "\n",
              "    [theme=dark] .colab-df-convert {\n",
              "      background-color: #3B4455;\n",
              "      fill: #D2E3FC;\n",
              "    }\n",
              "\n",
              "    [theme=dark] .colab-df-convert:hover {\n",
              "      background-color: #434B5C;\n",
              "      box-shadow: 0px 1px 3px 1px rgba(0, 0, 0, 0.15);\n",
              "      filter: drop-shadow(0px 1px 2px rgba(0, 0, 0, 0.3));\n",
              "      fill: #FFFFFF;\n",
              "    }\n",
              "  </style>\n",
              "\n",
              "      <script>\n",
              "        const buttonEl =\n",
              "          document.querySelector('#df-adb9f929-76b8-435b-8699-c58ec014f664 button.colab-df-convert');\n",
              "        buttonEl.style.display =\n",
              "          google.colab.kernel.accessAllowed ? 'block' : 'none';\n",
              "\n",
              "        async function convertToInteractive(key) {\n",
              "          const element = document.querySelector('#df-adb9f929-76b8-435b-8699-c58ec014f664');\n",
              "          const dataTable =\n",
              "            await google.colab.kernel.invokeFunction('convertToInteractive',\n",
              "                                                     [key], {});\n",
              "          if (!dataTable) return;\n",
              "\n",
              "          const docLinkHtml = 'Like what you see? Visit the ' +\n",
              "            '<a target=\"_blank\" href=https://colab.research.google.com/notebooks/data_table.ipynb>data table notebook</a>'\n",
              "            + ' to learn more about interactive tables.';\n",
              "          element.innerHTML = '';\n",
              "          dataTable['output_type'] = 'display_data';\n",
              "          await google.colab.output.renderOutput(dataTable, element);\n",
              "          const docLink = document.createElement('div');\n",
              "          docLink.innerHTML = docLinkHtml;\n",
              "          element.appendChild(docLink);\n",
              "        }\n",
              "      </script>\n",
              "    </div>\n",
              "  </div>\n",
              "  "
            ]
          },
          "metadata": {},
          "execution_count": 34
        }
      ]
    },
    {
      "cell_type": "markdown",
      "source": [
        "### Visualization of continuous variables"
      ],
      "metadata": {
        "id": "34wPyKTd2yRq"
      }
    },
    {
      "cell_type": "code",
      "source": [
        "fig,axes=plt.subplots(1,3, figsize=(12, 2))\n",
        "sns.distplot(df_mca.Credit_Amount, hist = True, kde = True, ax=axes[0]).set_title('Credit Amount')\n",
        "sns.distplot(df_mca.Duration_in_Months, hist = True, kde = True, ax=axes[1]).set_title('Duration in Months')\n",
        "sns.distplot(df_mca.Age, hist = True, kde = True, ax=axes[2]).set_title('Age')\n",
        "axes[1].set_ylabel(''), axes[2].set_ylabel('')\n",
        "axes[0].set_xlabel(''), axes[1].set_xlabel(''), axes[2].set_xlabel('');"
      ],
      "metadata": {
        "colab": {
          "base_uri": "https://localhost:8080/",
          "height": 173
        },
        "id": "zwyTSjtr3qlN",
        "outputId": "aea97e6f-1b89-4bd6-a311-e709b2dcc175"
      },
      "execution_count": null,
      "outputs": [
        {
          "output_type": "display_data",
          "data": {
            "text/plain": [
              "<Figure size 864x144 with 3 Axes>"
            ],
            "image/png": "[encoded data removed]"
          },
          "metadata": {
            "needs_background": "light"
          }
        }
      ]
    },
    {
      "cell_type": "code",
      "source": [
        "df_mca[['Credit_Amount','Duration_in_Months','Age']].describe()[1:].round(2)"
      ],
      "metadata": {
        "colab": {
          "base_uri": "https://localhost:8080/",
          "height": 269
        },
        "id": "yi2eqvCH-6lW",
        "outputId": "fc6c05c4-3ed3-43c2-d11e-113ab3106998"
      },
      "execution_count": null,
      "outputs": [
        {
          "output_type": "execute_result",
          "data": {
            "text/plain": [
              "      Credit_Amount  Duration_in_Months    Age\n",
              "mean        3271.26               20.90  35.55\n",
              "std         2822.74               12.06  11.38\n",
              "min          250.00                4.00  19.00\n",
              "25%         1365.50               12.00  27.00\n",
              "50%         2319.50               18.00  33.00\n",
              "75%         3972.25               24.00  42.00\n",
              "max        18424.00               72.00  75.00"
            ],
            "text/html": [
              "\n",
              "  <div id=\"df-bf6ab3ee-6bee-4733-b313-9e8dc59ce041\">\n",
              "    <div class=\"colab-df-container\">\n",
              "      <div>\n",
              "<style scoped>\n",
              "    .dataframe tbody tr th:only-of-type {\n",
              "        vertical-align: middle;\n",
              "    }\n",
              "\n",
              "    .dataframe tbody tr th {\n",
              "        vertical-align: top;\n",
              "    }\n",
              "\n",
              "    .dataframe thead th {\n",
              "        text-align: right;\n",
              "    }\n",
              "</style>\n",
              "<table border=\"1\" class=\"dataframe\">\n",
              "  <thead>\n",
              "    <tr style=\"text-align: right;\">\n",
              "      <th></th>\n",
              "      <th>Credit_Amount</th>\n",
              "      <th>Duration_in_Months</th>\n",
              "      <th>Age</th>\n",
              "    </tr>\n",
              "  </thead>\n",
              "  <tbody>\n",
              "    <tr>\n",
              "      <th>mean</th>\n",
              "      <td>3271.26</td>\n",
              "      <td>20.90</td>\n",
              "      <td>35.55</td>\n",
              "    </tr>\n",
              "    <tr>\n",
              "      <th>std</th>\n",
              "      <td>2822.74</td>\n",
              "      <td>12.06</td>\n",
              "      <td>11.38</td>\n",
              "    </tr>\n",
              "    <tr>\n",
              "      <th>min</th>\n",
              "      <td>250.00</td>\n",
              "      <td>4.00</td>\n",
              "      <td>19.00</td>\n",
              "    </tr>\n",
              "    <tr>\n",
              "      <th>25%</th>\n",
              "      <td>1365.50</td>\n",
              "      <td>12.00</td>\n",
              "      <td>27.00</td>\n",
              "    </tr>\n",
              "    <tr>\n",
              "      <th>50%</th>\n",
              "      <td>2319.50</td>\n",
              "      <td>18.00</td>\n",
              "      <td>33.00</td>\n",
              "    </tr>\n",
              "    <tr>\n",
              "      <th>75%</th>\n",
              "      <td>3972.25</td>\n",
              "      <td>24.00</td>\n",
              "      <td>42.00</td>\n",
              "    </tr>\n",
              "    <tr>\n",
              "      <th>max</th>\n",
              "      <td>18424.00</td>\n",
              "      <td>72.00</td>\n",
              "      <td>75.00</td>\n",
              "    </tr>\n",
              "  </tbody>\n",
              "</table>\n",
              "</div>\n",
              "      <button class=\"colab-df-convert\" onclick=\"convertToInteractive('df-bf6ab3ee-6bee-4733-b313-9e8dc59ce041')\"\n",
              "              title=\"Convert this dataframe to an interactive table.\"\n",
              "              style=\"display:none;\">\n",
              "        \n",
              "  <svg xmlns=\"http://www.w3.org/2000/svg\" height=\"24px\"viewBox=\"0 0 24 24\"\n",
              "       width=\"24px\">\n",
              "    <path d=\"M0 0h24v24H0V0z\" fill=\"none\"/>\n",
              "    <path d=\"M18.56 5.44l.94 2.06.94-2.06 2.06-.94-2.06-.94-.94-2.06-.94 2.06-2.06.94zm-11 1L8.5 8.5l.94-2.06 2.06-.94-2.06-.94L8.5 2.5l-.94 2.06-2.06.94zm10 10l.94 2.06.94-2.06 2.06-.94-2.06-.94-.94-2.06-.94 2.06-2.06.94z\"/><path d=\"M17.41 7.96l-1.37-1.37c-.4-.4-.92-.59-1.43-.59-.52 0-1.04.2-1.43.59L10.3 9.45l-7.72 7.72c-.78.78-.78 2.05 0 2.83L4 21.41c.39.39.9.59 1.41.59.51 0 1.02-.2 1.41-.59l7.78-7.78 2.81-2.81c.8-.78.8-2.07 0-2.86zM5.41 20L4 18.59l7.72-7.72 1.47 1.35L5.41 20z\"/>\n",
              "  </svg>\n",
              "      </button>\n",
              "      \n",
              "  <style>\n",
              "    .colab-df-container {\n",
              "      display:flex;\n",
              "      flex-wrap:wrap;\n",
              "      gap: 12px;\n",
              "    }\n",
              "\n",
              "    .colab-df-convert {\n",
              "      background-color: #E8F0FE;\n",
              "      border: none;\n",
              "      border-radius: 50%;\n",
              "      cursor: pointer;\n",
              "      display: none;\n",
              "      fill: #1967D2;\n",
              "      height: 32px;\n",
              "      padding: 0 0 0 0;\n",
              "      width: 32px;\n",
              "    }\n",
              "\n",
              "    .colab-df-convert:hover {\n",
              "      background-color: #E2EBFA;\n",
              "      box-shadow: 0px 1px 2px rgba(60, 64, 67, 0.3), 0px 1px 3px 1px rgba(60, 64, 67, 0.15);\n",
              "      fill: #174EA6;\n",
              "    }\n",
              "\n",
              "    [theme=dark] .colab-df-convert {\n",
              "      background-color: #3B4455;\n",
              "      fill: #D2E3FC;\n",
              "    }\n",
              "\n",
              "    [theme=dark] .colab-df-convert:hover {\n",
              "      background-color: #434B5C;\n",
              "      box-shadow: 0px 1px 3px 1px rgba(0, 0, 0, 0.15);\n",
              "      filter: drop-shadow(0px 1px 2px rgba(0, 0, 0, 0.3));\n",
              "      fill: #FFFFFF;\n",
              "    }\n",
              "  </style>\n",
              "\n",
              "      <script>\n",
              "        const buttonEl =\n",
              "          document.querySelector('#df-bf6ab3ee-6bee-4733-b313-9e8dc59ce041 button.colab-df-convert');\n",
              "        buttonEl.style.display =\n",
              "          google.colab.kernel.accessAllowed ? 'block' : 'none';\n",
              "\n",
              "        async function convertToInteractive(key) {\n",
              "          const element = document.querySelector('#df-bf6ab3ee-6bee-4733-b313-9e8dc59ce041');\n",
              "          const dataTable =\n",
              "            await google.colab.kernel.invokeFunction('convertToInteractive',\n",
              "                                                     [key], {});\n",
              "          if (!dataTable) return;\n",
              "\n",
              "          const docLinkHtml = 'Like what you see? Visit the ' +\n",
              "            '<a target=\"_blank\" href=https://colab.research.google.com/notebooks/data_table.ipynb>data table notebook</a>'\n",
              "            + ' to learn more about interactive tables.';\n",
              "          element.innerHTML = '';\n",
              "          dataTable['output_type'] = 'display_data';\n",
              "          await google.colab.output.renderOutput(dataTable, element);\n",
              "          const docLink = document.createElement('div');\n",
              "          docLink.innerHTML = docLinkHtml;\n",
              "          element.appendChild(docLink);\n",
              "        }\n",
              "      </script>\n",
              "    </div>\n",
              "  </div>\n",
              "  "
            ]
          },
          "metadata": {},
          "execution_count": 36
        }
      ]
    },
    {
      "cell_type": "markdown",
      "source": [
        "### Categorization of quantitative variables"
      ],
      "metadata": {
        "id": "Tth0pKtlPNFr"
      }
    },
    {
      "cell_type": "markdown",
      "source": [
        "#### Continuous variables"
      ],
      "metadata": {
        "id": "svZPo4es4Ml4"
      }
    },
    {
      "cell_type": "code",
      "source": [
        "# Duration in Months\n",
        "df_mca['Duration_in_Months'] = pd.cut(df_mca['Duration_in_Months'],\n",
        "                                      bins=[0, 24, 48, 72],\n",
        "                                      labels=['less than 2 years', '2-4 years', '4-6 years'])\n",
        "\n",
        "# Credit Amount\n",
        "df_mca['Credit_Amount'] = pd.cut(df_mca['Credit_Amount'],\n",
        "                                 bins=[0, 5000, 10000, 20000],\n",
        "                                 labels=['moderate', 'high', 'very high'])\n",
        "\n",
        "# Age\n",
        "df_mca['Age'] = pd.cut(df_mca['Age'],\n",
        "                       bins=[0, 25, 55, 80],\n",
        "                       labels=['young adult', 'adult', 'senior'])"
      ],
      "metadata": {
        "id": "vCIoWtZH8jAU"
      },
      "execution_count": null,
      "outputs": []
    },
    {
      "cell_type": "code",
      "source": [
        "df_mca[numeric].head()"
      ],
      "metadata": {
        "colab": {
          "base_uri": "https://localhost:8080/",
          "height": 206
        },
        "id": "f8OiCNPwGSSI",
        "outputId": "54d65afd-5dc8-45be-c3d2-810947ed59f9"
      },
      "execution_count": null,
      "outputs": [
        {
          "output_type": "execute_result",
          "data": {
            "text/plain": [
              "  Duration_in_Months Credit_Amount  Inst_Rt_Income  Current_Address_Yrs  \\\n",
              "0  less than 2 years      moderate               4                    4   \n",
              "1          2-4 years          high               2                    2   \n",
              "2  less than 2 years      moderate               2                    3   \n",
              "3          2-4 years          high               2                    4   \n",
              "4  less than 2 years      moderate               3                    4   \n",
              "\n",
              "           Age  Num_CC  Dependents  Default_On_Payment  \n",
              "0       senior       2           1                   0  \n",
              "1  young adult       1           1                   0  \n",
              "2        adult       1           2                   0  \n",
              "3        adult       1           2                   0  \n",
              "4        adult       2           2                   1  "
            ],
            "text/html": [
              "\n",
              "  <div id=\"df-adfe20fc-8bb3-4754-859e-9907d8085052\">\n",
              "    <div class=\"colab-df-container\">\n",
              "      <div>\n",
              "<style scoped>\n",
              "    .dataframe tbody tr th:only-of-type {\n",
              "        vertical-align: middle;\n",
              "    }\n",
              "\n",
              "    .dataframe tbody tr th {\n",
              "        vertical-align: top;\n",
              "    }\n",
              "\n",
              "    .dataframe thead th {\n",
              "        text-align: right;\n",
              "    }\n",
              "</style>\n",
              "<table border=\"1\" class=\"dataframe\">\n",
              "  <thead>\n",
              "    <tr style=\"text-align: right;\">\n",
              "      <th></th>\n",
              "      <th>Duration_in_Months</th>\n",
              "      <th>Credit_Amount</th>\n",
              "      <th>Inst_Rt_Income</th>\n",
              "      <th>Current_Address_Yrs</th>\n",
              "      <th>Age</th>\n",
              "      <th>Num_CC</th>\n",
              "      <th>Dependents</th>\n",
              "      <th>Default_On_Payment</th>\n",
              "    </tr>\n",
              "  </thead>\n",
              "  <tbody>\n",
              "    <tr>\n",
              "      <th>0</th>\n",
              "      <td>less than 2 years</td>\n",
              "      <td>moderate</td>\n",
              "      <td>4</td>\n",
              "      <td>4</td>\n",
              "      <td>senior</td>\n",
              "      <td>2</td>\n",
              "      <td>1</td>\n",
              "      <td>0</td>\n",
              "    </tr>\n",
              "    <tr>\n",
              "      <th>1</th>\n",
              "      <td>2-4 years</td>\n",
              "      <td>high</td>\n",
              "      <td>2</td>\n",
              "      <td>2</td>\n",
              "      <td>young adult</td>\n",
              "      <td>1</td>\n",
              "      <td>1</td>\n",
              "      <td>0</td>\n",
              "    </tr>\n",
              "    <tr>\n",
              "      <th>2</th>\n",
              "      <td>less than 2 years</td>\n",
              "      <td>moderate</td>\n",
              "      <td>2</td>\n",
              "      <td>3</td>\n",
              "      <td>adult</td>\n",
              "      <td>1</td>\n",
              "      <td>2</td>\n",
              "      <td>0</td>\n",
              "    </tr>\n",
              "    <tr>\n",
              "      <th>3</th>\n",
              "      <td>2-4 years</td>\n",
              "      <td>high</td>\n",
              "      <td>2</td>\n",
              "      <td>4</td>\n",
              "      <td>adult</td>\n",
              "      <td>1</td>\n",
              "      <td>2</td>\n",
              "      <td>0</td>\n",
              "    </tr>\n",
              "    <tr>\n",
              "      <th>4</th>\n",
              "      <td>less than 2 years</td>\n",
              "      <td>moderate</td>\n",
              "      <td>3</td>\n",
              "      <td>4</td>\n",
              "      <td>adult</td>\n",
              "      <td>2</td>\n",
              "      <td>2</td>\n",
              "      <td>1</td>\n",
              "    </tr>\n",
              "  </tbody>\n",
              "</table>\n",
              "</div>\n",
              "      <button class=\"colab-df-convert\" onclick=\"convertToInteractive('df-adfe20fc-8bb3-4754-859e-9907d8085052')\"\n",
              "              title=\"Convert this dataframe to an interactive table.\"\n",
              "              style=\"display:none;\">\n",
              "        \n",
              "  <svg xmlns=\"http://www.w3.org/2000/svg\" height=\"24px\"viewBox=\"0 0 24 24\"\n",
              "       width=\"24px\">\n",
              "    <path d=\"M0 0h24v24H0V0z\" fill=\"none\"/>\n",
              "    <path d=\"M18.56 5.44l.94 2.06.94-2.06 2.06-.94-2.06-.94-.94-2.06-.94 2.06-2.06.94zm-11 1L8.5 8.5l.94-2.06 2.06-.94-2.06-.94L8.5 2.5l-.94 2.06-2.06.94zm10 10l.94 2.06.94-2.06 2.06-.94-2.06-.94-.94-2.06-.94 2.06-2.06.94z\"/><path d=\"M17.41 7.96l-1.37-1.37c-.4-.4-.92-.59-1.43-.59-.52 0-1.04.2-1.43.59L10.3 9.45l-7.72 7.72c-.78.78-.78 2.05 0 2.83L4 21.41c.39.39.9.59 1.41.59.51 0 1.02-.2 1.41-.59l7.78-7.78 2.81-2.81c.8-.78.8-2.07 0-2.86zM5.41 20L4 18.59l7.72-7.72 1.47 1.35L5.41 20z\"/>\n",
              "  </svg>\n",
              "      </button>\n",
              "      \n",
              "  <style>\n",
              "    .colab-df-container {\n",
              "      display:flex;\n",
              "      flex-wrap:wrap;\n",
              "      gap: 12px;\n",
              "    }\n",
              "\n",
              "    .colab-df-convert {\n",
              "      background-color: #E8F0FE;\n",
              "      border: none;\n",
              "      border-radius: 50%;\n",
              "      cursor: pointer;\n",
              "      display: none;\n",
              "      fill: #1967D2;\n",
              "      height: 32px;\n",
              "      padding: 0 0 0 0;\n",
              "      width: 32px;\n",
              "    }\n",
              "\n",
              "    .colab-df-convert:hover {\n",
              "      background-color: #E2EBFA;\n",
              "      box-shadow: 0px 1px 2px rgba(60, 64, 67, 0.3), 0px 1px 3px 1px rgba(60, 64, 67, 0.15);\n",
              "      fill: #174EA6;\n",
              "    }\n",
              "\n",
              "    [theme=dark] .colab-df-convert {\n",
              "      background-color: #3B4455;\n",
              "      fill: #D2E3FC;\n",
              "    }\n",
              "\n",
              "    [theme=dark] .colab-df-convert:hover {\n",
              "      background-color: #434B5C;\n",
              "      box-shadow: 0px 1px 3px 1px rgba(0, 0, 0, 0.15);\n",
              "      filter: drop-shadow(0px 1px 2px rgba(0, 0, 0, 0.3));\n",
              "      fill: #FFFFFF;\n",
              "    }\n",
              "  </style>\n",
              "\n",
              "      <script>\n",
              "        const buttonEl =\n",
              "          document.querySelector('#df-adfe20fc-8bb3-4754-859e-9907d8085052 button.colab-df-convert');\n",
              "        buttonEl.style.display =\n",
              "          google.colab.kernel.accessAllowed ? 'block' : 'none';\n",
              "\n",
              "        async function convertToInteractive(key) {\n",
              "          const element = document.querySelector('#df-adfe20fc-8bb3-4754-859e-9907d8085052');\n",
              "          const dataTable =\n",
              "            await google.colab.kernel.invokeFunction('convertToInteractive',\n",
              "                                                     [key], {});\n",
              "          if (!dataTable) return;\n",
              "\n",
              "          const docLinkHtml = 'Like what you see? Visit the ' +\n",
              "            '<a target=\"_blank\" href=https://colab.research.google.com/notebooks/data_table.ipynb>data table notebook</a>'\n",
              "            + ' to learn more about interactive tables.';\n",
              "          element.innerHTML = '';\n",
              "          dataTable['output_type'] = 'display_data';\n",
              "          await google.colab.output.renderOutput(dataTable, element);\n",
              "          const docLink = document.createElement('div');\n",
              "          docLink.innerHTML = docLinkHtml;\n",
              "          element.appendChild(docLink);\n",
              "        }\n",
              "      </script>\n",
              "    </div>\n",
              "  </div>\n",
              "  "
            ]
          },
          "metadata": {},
          "execution_count": 38
        }
      ]
    },
    {
      "cell_type": "markdown",
      "source": [
        "#### Discrete variables"
      ],
      "metadata": {
        "id": "45J8tEa94OoG"
      }
    },
    {
      "cell_type": "code",
      "source": [
        "for col in df_mca.columns:\n",
        "  df_mca[col] = df_mca[col].astype(\"O\")"
      ],
      "metadata": {
        "id": "1lB6e_l_GTs6"
      },
      "execution_count": null,
      "outputs": []
    },
    {
      "cell_type": "code",
      "source": [
        "df_mca.dtypes"
      ],
      "metadata": {
        "colab": {
          "base_uri": "https://localhost:8080/"
        },
        "id": "P7zK5q-V8LSZ",
        "outputId": "87fdcbb2-1f0a-4d76-a292-a85ae078dfe9"
      },
      "execution_count": null,
      "outputs": [
        {
          "output_type": "execute_result",
          "data": {
            "text/plain": [
              "Status_Checking_Acc            object\n",
              "Duration_in_Months             object\n",
              "Credit_History                 object\n",
              "Purposre_Credit_Taken          object\n",
              "Credit_Amount                  object\n",
              "Savings_Acc                    object\n",
              "Years_At_Present_Employment    object\n",
              "Inst_Rt_Income                 object\n",
              "Marital_Status_Gender          object\n",
              "Other_Debtors_Guarantors       object\n",
              "Current_Address_Yrs            object\n",
              "Property                       object\n",
              "Age                            object\n",
              "Other_Inst_Plans               object\n",
              "Housing                        object\n",
              "Num_CC                         object\n",
              "Job                            object\n",
              "Dependents                     object\n",
              "Telephone                      object\n",
              "Foreign_Worker                 object\n",
              "Default_On_Payment             object\n",
              "dtype: object"
            ]
          },
          "metadata": {},
          "execution_count": 40
        }
      ]
    },
    {
      "cell_type": "markdown",
      "source": [
        "### Applying MCA"
      ],
      "metadata": {
        "id": "DHGW171C77CL"
      }
    },
    {
      "cell_type": "code",
      "source": [
        "mca = prince.MCA(n_components=df_mca.shape[1], benzecri=False)\n",
        "mca1 = mca.fit_transform(df_mca)"
      ],
      "metadata": {
        "id": "LdX46iBpjwmZ"
      },
      "execution_count": null,
      "outputs": []
    },
    {
      "cell_type": "code",
      "source": [
        "mca1.head()"
      ],
      "metadata": {
        "id": "dK0FDuWlny-e",
        "colab": {
          "base_uri": "https://localhost:8080/",
          "height": 236
        },
        "outputId": "0e11f504-057c-4830-dce6-2bbf135051d5"
      },
      "execution_count": null,
      "outputs": [
        {
          "output_type": "execute_result",
          "data": {
            "text/plain": [
              "         0         1         2         3         4         5         6   \\\n",
              "0  0.172762 -0.470603  0.480597 -0.273052 -0.103259  0.160724 -0.375588   \n",
              "1 -0.243472  0.242284 -0.450496 -0.162690  0.025863 -0.115335  0.225886   \n",
              "2 -0.119598 -0.437436  0.293545  0.315006 -0.131359 -0.072453  0.140082   \n",
              "3  0.288477  0.182988  0.043333  0.200091 -0.512653 -0.030487  0.575217   \n",
              "4  0.500921  0.060968  0.346492  0.434564 -0.538259  0.002920  0.224437   \n",
              "\n",
              "         7         8         9   ...        11        12        13        14  \\\n",
              "0  0.265832  0.271324 -0.062775  ... -0.011519  0.435775  0.103209 -0.096395   \n",
              "1  0.395928 -0.140664 -0.244172  ... -0.362506  0.093040  0.054410 -0.266053   \n",
              "2 -0.166825 -0.013459  0.245486  ...  0.055152 -0.362188 -0.250880 -0.255752   \n",
              "3 -0.403284 -0.092160 -0.102925  ... -0.459210  0.089039  0.321843 -0.003390   \n",
              "4  0.069714 -0.209528 -0.255231  ... -0.085373 -0.309608 -0.394821  0.377302   \n",
              "\n",
              "         15        16        17        18        19        20  \n",
              "0  0.126135 -0.146120  0.130925  0.106276  0.216295  0.046470  \n",
              "1  0.156189  0.204810 -0.068164  0.057618  0.217058 -0.163023  \n",
              "2  0.285073  0.515555 -0.205794 -0.356138  0.336119 -0.043147  \n",
              "3  0.425389  0.458692 -0.150957  0.287320  0.141328 -0.162888  \n",
              "4 -0.381301  0.022234  0.066461 -0.126562 -0.145715  0.102463  \n",
              "\n",
              "[5 rows x 21 columns]"
            ],
            "text/html": [
              "\n",
              "  <div id=\"df-690489e0-9eeb-48a7-9cea-7628e47cf99b\">\n",
              "    <div class=\"colab-df-container\">\n",
              "      <div>\n",
              "<style scoped>\n",
              "    .dataframe tbody tr th:only-of-type {\n",
              "        vertical-align: middle;\n",
              "    }\n",
              "\n",
              "    .dataframe tbody tr th {\n",
              "        vertical-align: top;\n",
              "    }\n",
              "\n",
              "    .dataframe thead th {\n",
              "        text-align: right;\n",
              "    }\n",
              "</style>\n",
              "<table border=\"1\" class=\"dataframe\">\n",
              "  <thead>\n",
              "    <tr style=\"text-align: right;\">\n",
              "      <th></th>\n",
              "      <th>0</th>\n",
              "      <th>1</th>\n",
              "      <th>2</th>\n",
              "      <th>3</th>\n",
              "      <th>4</th>\n",
              "      <th>5</th>\n",
              "      <th>6</th>\n",
              "      <th>7</th>\n",
              "      <th>8</th>\n",
              "      <th>9</th>\n",
              "      <th>...</th>\n",
              "      <th>11</th>\n",
              "      <th>12</th>\n",
              "      <th>13</th>\n",
              "      <th>14</th>\n",
              "      <th>15</th>\n",
              "      <th>16</th>\n",
              "      <th>17</th>\n",
              "      <th>18</th>\n",
              "      <th>19</th>\n",
              "      <th>20</th>\n",
              "    </tr>\n",
              "  </thead>\n",
              "  <tbody>\n",
              "    <tr>\n",
              "      <th>0</th>\n",
              "      <td>0.172762</td>\n",
              "      <td>-0.470603</td>\n",
              "      <td>0.480597</td>\n",
              "      <td>-0.273052</td>\n",
              "      <td>-0.103259</td>\n",
              "      <td>0.160724</td>\n",
              "      <td>-0.375588</td>\n",
              "      <td>0.265832</td>\n",
              "      <td>0.271324</td>\n",
              "      <td>-0.062775</td>\n",
              "      <td>...</td>\n",
              "      <td>-0.011519</td>\n",
              "      <td>0.435775</td>\n",
              "      <td>0.103209</td>\n",
              "      <td>-0.096395</td>\n",
              "      <td>0.126135</td>\n",
              "      <td>-0.146120</td>\n",
              "      <td>0.130925</td>\n",
              "      <td>0.106276</td>\n",
              "      <td>0.216295</td>\n",
              "      <td>0.046470</td>\n",
              "    </tr>\n",
              "    <tr>\n",
              "      <th>1</th>\n",
              "      <td>-0.243472</td>\n",
              "      <td>0.242284</td>\n",
              "      <td>-0.450496</td>\n",
              "      <td>-0.162690</td>\n",
              "      <td>0.025863</td>\n",
              "      <td>-0.115335</td>\n",
              "      <td>0.225886</td>\n",
              "      <td>0.395928</td>\n",
              "      <td>-0.140664</td>\n",
              "      <td>-0.244172</td>\n",
              "      <td>...</td>\n",
              "      <td>-0.362506</td>\n",
              "      <td>0.093040</td>\n",
              "      <td>0.054410</td>\n",
              "      <td>-0.266053</td>\n",
              "      <td>0.156189</td>\n",
              "      <td>0.204810</td>\n",
              "      <td>-0.068164</td>\n",
              "      <td>0.057618</td>\n",
              "      <td>0.217058</td>\n",
              "      <td>-0.163023</td>\n",
              "    </tr>\n",
              "    <tr>\n",
              "      <th>2</th>\n",
              "      <td>-0.119598</td>\n",
              "      <td>-0.437436</td>\n",
              "      <td>0.293545</td>\n",
              "      <td>0.315006</td>\n",
              "      <td>-0.131359</td>\n",
              "      <td>-0.072453</td>\n",
              "      <td>0.140082</td>\n",
              "      <td>-0.166825</td>\n",
              "      <td>-0.013459</td>\n",
              "      <td>0.245486</td>\n",
              "      <td>...</td>\n",
              "      <td>0.055152</td>\n",
              "      <td>-0.362188</td>\n",
              "      <td>-0.250880</td>\n",
              "      <td>-0.255752</td>\n",
              "      <td>0.285073</td>\n",
              "      <td>0.515555</td>\n",
              "      <td>-0.205794</td>\n",
              "      <td>-0.356138</td>\n",
              "      <td>0.336119</td>\n",
              "      <td>-0.043147</td>\n",
              "    </tr>\n",
              "    <tr>\n",
              "      <th>3</th>\n",
              "      <td>0.288477</td>\n",
              "      <td>0.182988</td>\n",
              "      <td>0.043333</td>\n",
              "      <td>0.200091</td>\n",
              "      <td>-0.512653</td>\n",
              "      <td>-0.030487</td>\n",
              "      <td>0.575217</td>\n",
              "      <td>-0.403284</td>\n",
              "      <td>-0.092160</td>\n",
              "      <td>-0.102925</td>\n",
              "      <td>...</td>\n",
              "      <td>-0.459210</td>\n",
              "      <td>0.089039</td>\n",
              "      <td>0.321843</td>\n",
              "      <td>-0.003390</td>\n",
              "      <td>0.425389</td>\n",
              "      <td>0.458692</td>\n",
              "      <td>-0.150957</td>\n",
              "      <td>0.287320</td>\n",
              "      <td>0.141328</td>\n",
              "      <td>-0.162888</td>\n",
              "    </tr>\n",
              "    <tr>\n",
              "      <th>4</th>\n",
              "      <td>0.500921</td>\n",
              "      <td>0.060968</td>\n",
              "      <td>0.346492</td>\n",
              "      <td>0.434564</td>\n",
              "      <td>-0.538259</td>\n",
              "      <td>0.002920</td>\n",
              "      <td>0.224437</td>\n",
              "      <td>0.069714</td>\n",
              "      <td>-0.209528</td>\n",
              "      <td>-0.255231</td>\n",
              "      <td>...</td>\n",
              "      <td>-0.085373</td>\n",
              "      <td>-0.309608</td>\n",
              "      <td>-0.394821</td>\n",
              "      <td>0.377302</td>\n",
              "      <td>-0.381301</td>\n",
              "      <td>0.022234</td>\n",
              "      <td>0.066461</td>\n",
              "      <td>-0.126562</td>\n",
              "      <td>-0.145715</td>\n",
              "      <td>0.102463</td>\n",
              "    </tr>\n",
              "  </tbody>\n",
              "</table>\n",
              "<p>5 rows × 21 columns</p>\n",
              "</div>\n",
              "      <button class=\"colab-df-convert\" onclick=\"convertToInteractive('df-690489e0-9eeb-48a7-9cea-7628e47cf99b')\"\n",
              "              title=\"Convert this dataframe to an interactive table.\"\n",
              "              style=\"display:none;\">\n",
              "        \n",
              "  <svg xmlns=\"http://www.w3.org/2000/svg\" height=\"24px\"viewBox=\"0 0 24 24\"\n",
              "       width=\"24px\">\n",
              "    <path d=\"M0 0h24v24H0V0z\" fill=\"none\"/>\n",
              "    <path d=\"M18.56 5.44l.94 2.06.94-2.06 2.06-.94-2.06-.94-.94-2.06-.94 2.06-2.06.94zm-11 1L8.5 8.5l.94-2.06 2.06-.94-2.06-.94L8.5 2.5l-.94 2.06-2.06.94zm10 10l.94 2.06.94-2.06 2.06-.94-2.06-.94-.94-2.06-.94 2.06-2.06.94z\"/><path d=\"M17.41 7.96l-1.37-1.37c-.4-.4-.92-.59-1.43-.59-.52 0-1.04.2-1.43.59L10.3 9.45l-7.72 7.72c-.78.78-.78 2.05 0 2.83L4 21.41c.39.39.9.59 1.41.59.51 0 1.02-.2 1.41-.59l7.78-7.78 2.81-2.81c.8-.78.8-2.07 0-2.86zM5.41 20L4 18.59l7.72-7.72 1.47 1.35L5.41 20z\"/>\n",
              "  </svg>\n",
              "      </button>\n",
              "      \n",
              "  <style>\n",
              "    .colab-df-container {\n",
              "      display:flex;\n",
              "      flex-wrap:wrap;\n",
              "      gap: 12px;\n",
              "    }\n",
              "\n",
              "    .colab-df-convert {\n",
              "      background-color: #E8F0FE;\n",
              "      border: none;\n",
              "      border-radius: 50%;\n",
              "      cursor: pointer;\n",
              "      display: none;\n",
              "      fill: #1967D2;\n",
              "      height: 32px;\n",
              "      padding: 0 0 0 0;\n",
              "      width: 32px;\n",
              "    }\n",
              "\n",
              "    .colab-df-convert:hover {\n",
              "      background-color: #E2EBFA;\n",
              "      box-shadow: 0px 1px 2px rgba(60, 64, 67, 0.3), 0px 1px 3px 1px rgba(60, 64, 67, 0.15);\n",
              "      fill: #174EA6;\n",
              "    }\n",
              "\n",
              "    [theme=dark] .colab-df-convert {\n",
              "      background-color: #3B4455;\n",
              "      fill: #D2E3FC;\n",
              "    }\n",
              "\n",
              "    [theme=dark] .colab-df-convert:hover {\n",
              "      background-color: #434B5C;\n",
              "      box-shadow: 0px 1px 3px 1px rgba(0, 0, 0, 0.15);\n",
              "      filter: drop-shadow(0px 1px 2px rgba(0, 0, 0, 0.3));\n",
              "      fill: #FFFFFF;\n",
              "    }\n",
              "  </style>\n",
              "\n",
              "      <script>\n",
              "        const buttonEl =\n",
              "          document.querySelector('#df-690489e0-9eeb-48a7-9cea-7628e47cf99b button.colab-df-convert');\n",
              "        buttonEl.style.display =\n",
              "          google.colab.kernel.accessAllowed ? 'block' : 'none';\n",
              "\n",
              "        async function convertToInteractive(key) {\n",
              "          const element = document.querySelector('#df-690489e0-9eeb-48a7-9cea-7628e47cf99b');\n",
              "          const dataTable =\n",
              "            await google.colab.kernel.invokeFunction('convertToInteractive',\n",
              "                                                     [key], {});\n",
              "          if (!dataTable) return;\n",
              "\n",
              "          const docLinkHtml = 'Like what you see? Visit the ' +\n",
              "            '<a target=\"_blank\" href=https://colab.research.google.com/notebooks/data_table.ipynb>data table notebook</a>'\n",
              "            + ' to learn more about interactive tables.';\n",
              "          element.innerHTML = '';\n",
              "          dataTable['output_type'] = 'display_data';\n",
              "          await google.colab.output.renderOutput(dataTable, element);\n",
              "          const docLink = document.createElement('div');\n",
              "          docLink.innerHTML = docLinkHtml;\n",
              "          element.appendChild(docLink);\n",
              "        }\n",
              "      </script>\n",
              "    </div>\n",
              "  </div>\n",
              "  "
            ]
          },
          "metadata": {},
          "execution_count": 42
        }
      ]
    },
    {
      "cell_type": "code",
      "source": [
        "mca.plot_coordinates(df_mca,\n",
        "                     row_points_alpha=0.2,\n",
        "                     figsize=(20, 15),\n",
        "                     show_row_points=False,\n",
        "                     show_column_labels=True\n",
        "                    );"
      ],
      "metadata": {
        "id": "s0j8gqDAjwoy",
        "colab": {
          "base_uri": "https://localhost:8080/",
          "height": 893
        },
        "outputId": "7147920f-2ca7-4625-a1a5-ada52bfa66b6"
      },
      "execution_count": null,
      "outputs": [
        {
          "output_type": "display_data",
          "data": {
            "text/plain": [
              "<Figure size 1440x1080 with 1 Axes>"
            ],
            "image/png": "[encoded data removed]"
          },
          "metadata": {
            "needs_background": "light"
          }
        }
      ]
    },
    {
      "cell_type": "markdown",
      "source": [
        "On the one hand, we notice that the people at risk of bank default are tenants (A151), co-applicants (A102), overdrawn customers (A11) as well as those who have repaid all bank loans (A31).\n",
        "On the other hand, people who are more likely not to end up in bank default are those with a savings account with a value of between 5,000 and 10,000 USD (A63), people who have spent 4 to 7 years in their current job (A74), having taken out credit for a radio/television (A74), owners of their accommodation (A152), adults aged between 25 and 55 and those who have stayed at their current address for 2 or 3 years."
      ],
      "metadata": {
        "id": "yXmbgetAK_eB"
      }
    }
  ]
}